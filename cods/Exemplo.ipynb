{
 "cells": [
  {
   "cell_type": "code",
   "execution_count": 2,
   "id": "04c8b30c-f8f9-4430-aea5-6f519a3b05f6",
   "metadata": {},
   "outputs": [],
   "source": [
    "import pandas as pd\n",
    "import matplotlib.pyplot as plt\n",
    "import os"
   ]
  },
  {
   "cell_type": "code",
   "execution_count": 9,
   "id": "f93b949b-cb57-4f08-a587-ec1315750389",
   "metadata": {},
   "outputs": [],
   "source": [
    "ri='/home/jonathan/PB_tareas/Tarea2/test2/datos'"
   ]
  },
  {
   "cell_type": "code",
   "execution_count": 16,
   "id": "766fe786-224a-4648-8eaf-4d2ab923c22a",
   "metadata": {},
   "outputs": [
    {
     "name": "stdout",
     "output_type": "stream",
     "text": [
      "Linv - Max: 1.537e+01, Min: -8.979e+01, Mean: 3.061e-02\n",
      "1991 01 ../out_nc/Lu_1991_01_.nc\n",
      "Linv - Max: 8.587e-01, Min: -2.109e+01, Mean: 2.871e-02\n",
      "1991 02 ../out_nc/Lu_1991_02_.nc\n",
      "Linv - Max: 6.064e-01, Min: -2.995e+01, Mean: 2.826e-02\n",
      "1991 03 ../out_nc/Lu_1991_03_.nc\n",
      "Linv - Max: 3.165e+00, Min: -9.430e+01, Mean: 3.694e-02\n",
      "1991 04 ../out_nc/Lu_1991_04_.nc\n",
      "Linv - Max: 1.017e+01, Min: -1.000e+02, Mean: 6.384e-02\n",
      "1991 05 ../out_nc/Lu_1991_05_.nc\n",
      "Linv - Max: 3.010e+00, Min: -4.923e+01, Mean: 4.586e-02\n",
      "1991 06 ../out_nc/Lu_1991_06_.nc\n",
      "Linv - Max: 2.670e+00, Min: -1.000e+02, Mean: 5.784e-02\n",
      "1991 07 ../out_nc/Lu_1991_07_.nc\n",
      "Linv - Max: 1.294e+00, Min: -3.364e+01, Mean: 1.515e-02\n",
      "1991 08 ../out_nc/Lu_1991_08_.nc\n",
      "Linv - Max: 4.825e+00, Min: -1.000e+02, Mean: 4.617e-02\n",
      "1991 09 ../out_nc/Lu_1991_09_.nc\n",
      "Linv - Max: 2.609e+00, Min: -7.329e+00, Mean: 9.164e-03\n",
      "1991 10 ../out_nc/Lu_1991_10_.nc\n",
      "Linv - Max: 8.187e-01, Min: -1.000e+02, Mean: 3.004e-02\n",
      "1991 11 ../out_nc/Lu_1991_11_.nc\n",
      "Linv - Max: 3.676e+00, Min: -2.541e+01, Mean: 2.442e-02\n",
      "1991 12 ../out_nc/Lu_1991_12_.nc\n",
      "Linv - Max: 1.537e+01, Min: -8.979e+01, Mean: 3.061e-02\n",
      "1992 01 ../out_nc/Lu_1991_01_.nc\n",
      "Linv - Max: 8.587e-01, Min: -2.109e+01, Mean: 2.871e-02\n",
      "1992 02 ../out_nc/Lu_1991_02_.nc\n",
      "Linv - Max: 6.064e-01, Min: -2.995e+01, Mean: 2.826e-02\n",
      "1992 03 ../out_nc/Lu_1991_03_.nc\n",
      "Linv - Max: 3.165e+00, Min: -9.430e+01, Mean: 3.694e-02\n",
      "1992 04 ../out_nc/Lu_1991_04_.nc\n",
      "Linv - Max: 1.017e+01, Min: -1.000e+02, Mean: 6.384e-02\n",
      "1992 05 ../out_nc/Lu_1991_05_.nc\n",
      "Linv - Max: 3.010e+00, Min: -4.923e+01, Mean: 4.586e-02\n",
      "1992 06 ../out_nc/Lu_1991_06_.nc\n",
      "Linv - Max: 2.670e+00, Min: -1.000e+02, Mean: 5.784e-02\n",
      "1992 07 ../out_nc/Lu_1991_07_.nc\n",
      "Linv - Max: 1.294e+00, Min: -3.364e+01, Mean: 1.515e-02\n",
      "1992 08 ../out_nc/Lu_1991_08_.nc\n",
      "Linv - Max: 4.825e+00, Min: -1.000e+02, Mean: 4.617e-02\n",
      "1992 09 ../out_nc/Lu_1991_09_.nc\n",
      "Linv - Max: 2.609e+00, Min: -7.329e+00, Mean: 9.164e-03\n",
      "1992 10 ../out_nc/Lu_1991_10_.nc\n",
      "Linv - Max: 8.187e-01, Min: -1.000e+02, Mean: 3.004e-02\n",
      "1992 11 ../out_nc/Lu_1991_11_.nc\n",
      "Linv - Max: 3.676e+00, Min: -2.541e+01, Mean: 2.442e-02\n",
      "1992 12 ../out_nc/Lu_1991_12_.nc\n",
      "Linv - Max: 1.537e+01, Min: -8.979e+01, Mean: 3.061e-02\n",
      "1993 01 ../out_nc/Lu_1991_01_.nc\n",
      "Linv - Max: 8.587e-01, Min: -2.109e+01, Mean: 2.871e-02\n",
      "1993 02 ../out_nc/Lu_1991_02_.nc\n",
      "Linv - Max: 6.064e-01, Min: -2.995e+01, Mean: 2.826e-02\n",
      "1993 03 ../out_nc/Lu_1991_03_.nc\n",
      "Linv - Max: 3.165e+00, Min: -9.430e+01, Mean: 3.694e-02\n",
      "1993 04 ../out_nc/Lu_1991_04_.nc\n",
      "Linv - Max: 1.017e+01, Min: -1.000e+02, Mean: 6.384e-02\n",
      "1993 05 ../out_nc/Lu_1991_05_.nc\n",
      "Linv - Max: 3.010e+00, Min: -4.923e+01, Mean: 4.586e-02\n",
      "1993 06 ../out_nc/Lu_1991_06_.nc\n",
      "Linv - Max: 2.670e+00, Min: -1.000e+02, Mean: 5.784e-02\n",
      "1993 07 ../out_nc/Lu_1991_07_.nc\n",
      "Linv - Max: 1.294e+00, Min: -3.364e+01, Mean: 1.515e-02\n",
      "1993 08 ../out_nc/Lu_1991_08_.nc\n",
      "Linv - Max: 4.825e+00, Min: -1.000e+02, Mean: 4.617e-02\n",
      "1993 09 ../out_nc/Lu_1991_09_.nc\n",
      "Linv - Max: 2.609e+00, Min: -7.329e+00, Mean: 9.164e-03\n",
      "1993 10 ../out_nc/Lu_1991_10_.nc\n",
      "Linv - Max: 8.187e-01, Min: -1.000e+02, Mean: 3.004e-02\n",
      "1993 11 ../out_nc/Lu_1991_11_.nc\n",
      "Linv - Max: 3.676e+00, Min: -2.541e+01, Mean: 2.442e-02\n",
      "1993 12 ../out_nc/Lu_1991_12_.nc\n"
     ]
    }
   ],
   "source": [
    "for yea in range(1991,1994):\n",
    "    #print(yea)\n",
    "    for month in range(12):\n",
    "        mon='%02d'%(month+1)        \n",
    "        file='%s/era5_%s_%s_inst.nc'%(ri,year,mon)\n",
    "        os.system('python obukhov_calculate.py %s'%file)\n",
    "        ifile='../out_nc/Lu_%s_%s_.nc'%(year,mon)\n",
    "        print(yea,mon,ifile)\n",
    "        os.system('python save_events.py %s'%ifile)"
   ]
  },
  {
   "cell_type": "code",
   "execution_count": null,
   "id": "b28071db-d1ce-4b98-8fce-6270958bdef2",
   "metadata": {},
   "outputs": [],
   "source": []
  }
 ],
 "metadata": {
  "kernelspec": {
   "display_name": "Python 3 (ipykernel)",
   "language": "python",
   "name": "python3"
  },
  "language_info": {
   "codemirror_mode": {
    "name": "ipython",
    "version": 3
   },
   "file_extension": ".py",
   "mimetype": "text/x-python",
   "name": "python",
   "nbconvert_exporter": "python",
   "pygments_lexer": "ipython3",
   "version": "3.12.2"
  }
 },
 "nbformat": 4,
 "nbformat_minor": 5
}
