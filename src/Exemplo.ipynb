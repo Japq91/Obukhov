{
 "cells": [
  {
   "cell_type": "code",
   "execution_count": 1,
   "id": "04c8b30c-f8f9-4430-aea5-6f519a3b05f6",
   "metadata": {},
   "outputs": [],
   "source": [
    "import pandas as pd\n",
    "import matplotlib.pyplot as plt\n",
    "import os\n",
    "from glob import glob as gb"
   ]
  },
  {
   "cell_type": "markdown",
   "id": "5aed7c45-605f-49f2-ab87-97f9427ebde9",
   "metadata": {},
   "source": [
    "### proc csv"
   ]
  },
  {
   "cell_type": "code",
   "execution_count": 2,
   "id": "f93b949b-cb57-4f08-a587-ec1315750389",
   "metadata": {},
   "outputs": [],
   "source": [
    "ri='/home/jonathan/PB_tareas/Tarea2/test2/datos'"
   ]
  },
  {
   "cell_type": "code",
   "execution_count": 3,
   "id": "766fe786-224a-4648-8eaf-4d2ab923c22a",
   "metadata": {
    "scrolled": true
   },
   "outputs": [
    {
     "name": "stdout",
     "output_type": "stream",
     "text": [
      "2002 08\n",
      "Linv - Max: 1.721e+00, Min: -1.000e+02, Mean: 2.434e-02\n",
      "2002 09\n",
      "Linv - Max: 1.422e+00, Min: -1.000e+02, Mean: 3.907e-02\n",
      "2002 10\n",
      "Linv - Max: 1.049e+00, Min: -3.068e+01, Mean: 1.461e-02\n",
      "2002 11\n",
      "Linv - Max: 1.869e+00, Min: -6.812e+00, Mean: 1.638e-02\n",
      "2002 12\n",
      "Linv - Max: 1.296e+01, Min: -1.000e+02, Mean: 2.466e-02\n",
      "2003 01\n",
      "Linv - Max: 6.418e+00, Min: -8.473e+01, Mean: 5.244e-02\n",
      "2003 02\n",
      "Linv - Max: 2.903e+00, Min: -1.000e+02, Mean: 4.747e-02\n",
      "2003 03\n",
      "Linv - Max: 2.266e+00, Min: -7.242e+01, Mean: 4.118e-02\n",
      "2003 04\n",
      "Linv - Max: 7.405e+00, Min: -9.323e+01, Mean: 8.367e-02\n",
      "2003 05\n",
      "Linv - Max: 3.877e+00, Min: -1.000e+02, Mean: 9.008e-02\n",
      "2003 06\n",
      "Linv - Max: 3.481e+00, Min: -1.000e+02, Mean: 1.285e-01\n",
      "2003 07\n",
      "Linv - Max: 8.576e-01, Min: -1.740e+01, Mean: 3.496e-02\n",
      "2003 08\n",
      "Linv - Max: 7.510e-01, Min: -7.013e+01, Mean: 3.077e-02\n",
      "2003 09\n",
      "Linv - Max: 1.701e+00, Min: -4.163e+01, Mean: 2.025e-02\n",
      "2003 10\n",
      "Linv - Max: 9.394e-01, Min: -3.441e+01, Mean: 1.943e-02\n",
      "2003 11\n",
      "Linv - Max: 1.582e+00, Min: -2.433e+01, Mean: 1.720e-02\n",
      "2003 12\n",
      "Linv - Max: 1.387e+00, Min: -2.555e+01, Mean: 1.918e-02\n",
      "2004 01\n",
      "Linv - Max: 1.580e+00, Min: -4.279e+01, Mean: 1.916e-02\n",
      "2004 02\n",
      "Linv - Max: 2.459e+00, Min: -1.000e+02, Mean: 5.265e-02\n",
      "2004 03\n",
      "Linv - Max: 4.019e+00, Min: -1.000e+02, Mean: 5.729e-02\n",
      "2004 04\n",
      "Linv - Max: 7.020e+00, Min: -7.811e+01, Mean: 5.112e-02\n",
      "2004 05\n",
      "Linv - Max: 1.736e+00, Min: -1.000e+02, Mean: 6.262e-02\n",
      "2004 06\n",
      "Linv - Max: 4.312e+00, Min: -1.000e+02, Mean: 6.881e-02\n",
      "2004 07\n",
      "Linv - Max: 2.530e+00, Min: -4.664e+01, Mean: 2.089e-02\n",
      "2004 08\n",
      "Linv - Max: 6.247e+00, Min: -1.000e+02, Mean: 7.062e-02\n",
      "2004 09\n",
      "Linv - Max: 8.810e-01, Min: -1.000e+02, Mean: 4.111e-02\n",
      "2004 10\n",
      "Linv - Max: 5.046e-01, Min: -7.940e+01, Mean: 2.680e-02\n",
      "2004 11\n",
      "Linv - Max: 7.549e-01, Min: -6.394e+00, Mean: 1.465e-02\n",
      "2004 12\n",
      "Linv - Max: 4.915e+00, Min: -4.832e+01, Mean: 3.025e-02\n",
      "2005 01\n",
      "Linv - Max: 1.481e+00, Min: -1.000e+02, Mean: 2.272e-02\n",
      "2005 02\n",
      "Linv - Max: 1.579e+01, Min: -1.000e+02, Mean: 6.431e-02\n",
      "2005 03\n",
      "Linv - Max: 8.459e+00, Min: -1.000e+02, Mean: 9.479e-02\n",
      "2005 04\n",
      "Linv - Max: 1.450e+00, Min: -1.000e+02, Mean: 9.851e-02\n",
      "2005 05\n",
      "Linv - Max: 4.472e+00, Min: -4.224e+01, Mean: 3.896e-02\n",
      "2005 06\n",
      "Linv - Max: 5.489e+00, Min: -1.000e+02, Mean: 6.185e-02\n",
      "2005 07\n",
      "Linv - Max: 1.928e+00, Min: -1.000e+02, Mean: 3.890e-02\n",
      "2005 08\n",
      "Linv - Max: 7.019e-01, Min: -1.000e+02, Mean: 2.712e-02\n",
      "2005 09\n",
      "Linv - Max: 9.810e-01, Min: -1.582e+01, Mean: 1.563e-02\n",
      "2005 10\n",
      "Linv - Max: 1.454e+00, Min: -9.554e+00, Mean: 1.779e-02\n",
      "2005 11\n",
      "Linv - Max: 6.620e+01, Min: -1.463e+01, Mean: 1.543e-02\n",
      "2005 12\n",
      "Linv - Max: 1.833e+00, Min: -1.000e+02, Mean: 4.144e-02\n",
      "2006 01\n",
      "Linv - Max: 5.301e+00, Min: -2.515e+01, Mean: 1.626e-02\n",
      "2006 02\n",
      "Linv - Max: 3.920e+00, Min: -3.326e+01, Mean: 2.988e-02\n",
      "2006 03\n",
      "Linv - Max: 1.392e+00, Min: -5.117e+01, Mean: 5.183e-02\n",
      "2006 04\n",
      "Linv - Max: 1.425e+01, Min: -1.000e+02, Mean: 8.952e-02\n",
      "2006 05\n",
      "Linv - Max: 1.460e+01, Min: -1.000e+02, Mean: 8.391e-02\n",
      "2006 06\n",
      "Linv - Max: 1.278e+00, Min: -4.206e+01, Mean: 4.270e-02\n",
      "2006 07\n",
      "Linv - Max: 3.344e+00, Min: -1.000e+02, Mean: 6.266e-02\n",
      "2006 08\n",
      "Linv - Max: 1.939e+00, Min: -1.000e+02, Mean: 2.111e-02\n",
      "2006 09\n",
      "Linv - Max: 1.593e+00, Min: -6.237e+01, Mean: 1.571e-02\n",
      "2006 10\n",
      "Linv - Max: 3.888e+00, Min: -1.475e+01, Mean: 1.447e-02\n",
      "2006 11\n",
      "Linv - Max: 7.969e-01, Min: -3.560e+01, Mean: 1.640e-02\n",
      "2006 12\n",
      "Linv - Max: 1.220e+00, Min: -3.307e+01, Mean: 1.442e-02\n",
      "2007 01\n",
      "Linv - Max: 1.896e+00, Min: -2.044e+01, Mean: 1.990e-02\n",
      "2007 02\n",
      "Linv - Max: 3.152e+00, Min: -1.000e+02, Mean: 4.505e-02\n",
      "2007 03\n",
      "Linv - Max: 1.732e+00, Min: -1.000e+02, Mean: 7.316e-02\n",
      "2007 04\n",
      "Linv - Max: 9.635e-01, Min: -7.242e+01, Mean: 1.135e-01\n",
      "2007 05\n",
      "Linv - Max: 1.758e+00, Min: -1.000e+02, Mean: 4.467e-02\n",
      "2007 06\n",
      "Linv - Max: 4.778e+00, Min: -3.717e+01, Mean: 4.281e-02\n",
      "2007 07\n",
      "Linv - Max: 1.485e+00, Min: -1.000e+02, Mean: 5.753e-02\n",
      "2007 08\n",
      "Linv - Max: 1.973e+00, Min: -5.035e+01, Mean: 2.454e-02\n",
      "2007 09\n",
      "Linv - Max: 5.225e-01, Min: -1.057e+01, Mean: 1.188e-02\n",
      "2007 10\n",
      "Linv - Max: 2.208e+00, Min: -1.223e+01, Mean: 2.098e-02\n",
      "2007 11\n",
      "Linv - Max: 5.119e+00, Min: -2.280e+01, Mean: 2.643e-02\n",
      "2007 12\n",
      "Linv - Max: 1.215e+00, Min: -7.893e+01, Mean: 3.069e-02\n",
      "2008 01\n",
      "Linv - Max: 7.620e-01, Min: -4.556e+01, Mean: 2.738e-02\n",
      "2008 02\n",
      "Linv - Max: 1.433e+00, Min: -4.819e+01, Mean: 4.425e-02\n",
      "2008 03\n",
      "Linv - Max: 5.281e+00, Min: -1.000e+02, Mean: 1.248e-01\n",
      "2008 04\n",
      "Linv - Max: 1.987e+01, Min: -1.000e+02, Mean: 9.441e-02\n",
      "2008 05\n",
      "Linv - Max: 2.596e+00, Min: -1.000e+02, Mean: 8.716e-02\n",
      "2008 06\n",
      "Linv - Max: 1.210e+01, Min: -1.000e+02, Mean: 4.980e-02\n",
      "2008 07\n",
      "Linv - Max: 6.750e+01, Min: -6.083e+01, Mean: 6.005e-02\n",
      "2008 08\n",
      "Linv - Max: 4.189e+00, Min: -7.979e+01, Mean: 2.762e-02\n",
      "2008 09\n",
      "Linv - Max: 1.528e+00, Min: -8.536e+01, Mean: 3.175e-02\n",
      "2008 10\n",
      "Linv - Max: 3.384e+01, Min: -1.000e+02, Mean: 1.552e-02\n",
      "2008 11\n",
      "Linv - Max: 3.609e+00, Min: -2.497e+01, Mean: 2.848e-02\n",
      "2008 12\n",
      "Linv - Max: 4.998e-01, Min: -2.044e+01, Mean: 2.916e-02\n",
      "2009 01\n",
      "Linv - Max: 2.039e+00, Min: -1.000e+02, Mean: 3.300e-02\n",
      "2009 02\n",
      "Linv - Max: 4.505e-01, Min: -9.270e+01, Mean: 2.587e-02\n",
      "2009 03\n",
      "Linv - Max: 3.535e+00, Min: -1.000e+02, Mean: 9.972e-02\n",
      "2009 04\n",
      "Linv - Max: 9.066e+00, Min: -1.000e+02, Mean: 1.099e-01\n",
      "2009 05\n",
      "Linv - Max: 3.488e+01, Min: -4.455e+01, Mean: 4.490e-02\n",
      "2009 06\n",
      "Linv - Max: 3.268e+00, Min: -1.000e+02, Mean: 6.864e-02\n",
      "2009 07\n",
      "Linv - Max: 3.471e+00, Min: -1.000e+02, Mean: 3.480e-02\n",
      "2009 08\n",
      "Linv - Max: 3.091e+01, Min: -9.111e+01, Mean: 2.537e-02\n",
      "2009 09\n",
      "Linv - Max: 4.490e+00, Min: -9.478e+01, Mean: 3.321e-02\n",
      "2009 10\n",
      "Linv - Max: 3.191e+00, Min: -2.867e+01, Mean: 3.476e-02\n",
      "2009 11\n",
      "Linv - Max: 4.557e+00, Min: -1.000e+02, Mean: 1.385e-02\n",
      "2009 12\n",
      "Linv - Max: 1.626e+00, Min: -1.000e+02, Mean: 3.079e-02\n",
      "2021 01\n",
      "Linv - Max: 3.263e+00, Min: -1.856e+01, Mean: 1.865e-02\n",
      "2021 02\n",
      "Linv - Max: 1.123e+01, Min: -1.000e+02, Mean: 5.955e-02\n",
      "2021 03\n",
      "Linv - Max: 2.781e+00, Min: -1.000e+02, Mean: 9.413e-02\n",
      "2021 04\n",
      "Linv - Max: 2.741e+00, Min: -1.000e+02, Mean: 6.426e-02\n",
      "2021 05\n",
      "Linv - Max: 1.562e+00, Min: -1.000e+02, Mean: 8.968e-02\n",
      "2021 06\n",
      "Linv - Max: 6.921e+00, Min: -1.000e+02, Mean: 8.341e-02\n",
      "2021 07\n",
      "Linv - Max: 1.003e+01, Min: -1.000e+02, Mean: 7.146e-02\n",
      "2021 08\n",
      "Linv - Max: 1.085e+00, Min: -1.376e+01, Mean: 2.134e-02\n",
      "2021 09\n",
      "Linv - Max: 1.505e+00, Min: -8.679e+01, Mean: 1.993e-02\n",
      "2021 10\n",
      "Linv - Max: 1.786e+00, Min: -1.333e+01, Mean: 2.237e-02\n",
      "2021 11\n",
      "Linv - Max: 8.385e+00, Min: -7.913e+01, Mean: 5.667e-02\n",
      "2021 12\n",
      "Linv - Max: 3.872e+00, Min: -1.000e+02, Mean: 5.406e-02\n",
      "2022 01\n",
      "Linv - Max: 2.781e+00, Min: -3.925e+01, Mean: 2.823e-02\n",
      "2022 02\n",
      "Linv - Max: 5.147e+00, Min: -1.000e+02, Mean: 6.112e-02\n",
      "2022 03\n",
      "Linv - Max: 9.517e-01, Min: -6.895e+01, Mean: 2.972e-02\n",
      "2022 04\n",
      "Linv - Max: 3.677e+00, Min: -9.843e+01, Mean: 7.366e-02\n",
      "2022 05\n",
      "Linv - Max: 2.366e+00, Min: -1.000e+02, Mean: 4.538e-02\n",
      "2022 06\n",
      "Linv - Max: 2.440e+00, Min: -1.000e+02, Mean: 5.281e-02\n",
      "2022 07\n",
      "Linv - Max: 1.210e+00, Min: -1.000e+02, Mean: 3.603e-02\n",
      "2022 08\n",
      "Linv - Max: 1.213e+00, Min: -1.520e+01, Mean: 1.993e-02\n",
      "2022 09\n",
      "Linv - Max: 3.345e+00, Min: -1.000e+02, Mean: 2.076e-02\n",
      "2022 10\n",
      "Linv - Max: 5.753e-01, Min: -5.201e+01, Mean: 3.445e-02\n",
      "2022 11\n",
      "Linv - Max: 1.019e+00, Min: -3.583e+01, Mean: 3.047e-02\n",
      "2022 12\n",
      "Linv - Max: 1.579e+01, Min: -1.628e+01, Mean: 2.144e-02\n",
      "2023 01\n",
      "Linv - Max: 2.016e+00, Min: -5.876e+01, Mean: 2.916e-02\n",
      "2023 02\n",
      "Linv - Max: 1.966e+01, Min: -9.585e+01, Mean: 2.423e-02\n",
      "2023 03\n",
      "Linv - Max: 1.802e+00, Min: -1.000e+02, Mean: 6.816e-02\n",
      "2023 04\n",
      "Linv - Max: 2.028e+00, Min: -1.000e+02, Mean: 6.174e-02\n",
      "2023 05\n",
      "Linv - Max: 1.255e+00, Min: -1.000e+02, Mean: 1.359e-01\n",
      "2023 06\n",
      "Linv - Max: 8.313e+00, Min: -3.245e+01, Mean: 4.413e-02\n",
      "2023 07\n",
      "Linv - Max: 2.316e+00, Min: -3.130e+01, Mean: 3.368e-02\n",
      "2023 08\n",
      "Linv - Max: 2.766e+01, Min: -1.000e+02, Mean: 6.394e-02\n",
      "2023 09\n",
      "Linv - Max: 7.561e-01, Min: -3.836e+01, Mean: 1.659e-02\n",
      "2023 10\n",
      "Linv - Max: 2.013e+00, Min: -5.182e+01, Mean: 2.361e-02\n",
      "2023 11\n",
      "Linv - Max: 9.196e+00, Min: -8.944e+01, Mean: 2.244e-02\n",
      "2023 12\n",
      "Linv - Max: 5.216e+00, Min: -7.546e+01, Mean: 3.629e-02\n"
     ]
    }
   ],
   "source": [
    "for yea in range(1990,2024):\n",
    "    for month in range(12):\n",
    "        mon='%02d'%(month+1)\n",
    "        file='%s/era5_%s_%s_inst.nc'%(ri,yea,mon)\n",
    "        if not os.path.exists(file): continue        \n",
    "        file1='../out_nc/Lu_%s_%s_.nc'%(yea,mon)\n",
    "        if not os.path.exists(file1): \n",
    "            print(yea,mon)  \n",
    "            os.system('python obukhov_calculate.py %s'%file)\n",
    "        file2='../out_csv/neutral_%s%s.csv'%(yea,mon)\n",
    "        if not os.path.exists(file2): os.system('python save_events.py %s'%file1)        "
   ]
  },
  {
   "cell_type": "markdown",
   "id": "c0c1820d-a9af-4751-85b7-a41067aedb04",
   "metadata": {},
   "source": [
    "### count"
   ]
  },
  {
   "cell_type": "code",
   "execution_count": 4,
   "id": "85ab916a-95a8-49d5-8f20-d58d778fae1c",
   "metadata": {},
   "outputs": [],
   "source": [
    "def plot1(dataframe):\n",
    "    fig=plt.figure(figsize=(6,3))\n",
    "    plt.pcolormesh(dataframe,cmap='turbo')\n",
    "    plt.colorbar(label='[%]')\n",
    "    plt.ylabel('months')\n",
    "    plt.xlabel('hours')\n",
    "    return fig"
   ]
  },
  {
   "cell_type": "code",
   "execution_count": 5,
   "id": "792b0e12-8432-4667-88a5-fb2ca44c765c",
   "metadata": {},
   "outputs": [],
   "source": [
    "def p01_merge(files):\n",
    "    for i,file in enumerate(files):\n",
    "        df=pd.read_csv(file,index_col='year_month')\n",
    "        if i==0: df1=df.copy()\n",
    "        else: df1=pd.concat([df1,df],axis=0)\n",
    "    df1.index=pd.to_datetime(df1.index)    \n",
    "    return df1"
   ]
  },
  {
   "cell_type": "code",
   "execution_count": 6,
   "id": "4854cd9f-5433-42d7-b60e-cabd26095771",
   "metadata": {},
   "outputs": [],
   "source": [
    "def p02_porcentaje(df1):\n",
    "    # Agrupar por número de mes (1 a 12) y calcular el promedio\n",
    "    df_sum = df1.groupby(df1.index.month).sum()\n",
    "    df_sum.index.name = 'month'\n",
    "    df_dias = (df1*0+1).mul(df1.index.days_in_month, axis=0)\n",
    "    df_dias.index=pd.to_datetime(df_dias.index)\n",
    "    df_nsum = df_dias.groupby(df_dias.index.month).sum()\n",
    "    df_nsum.index.name = 'month'\n",
    "    df0=100*df_sum/df_nsum\n",
    "    return df0"
   ]
  },
  {
   "cell_type": "code",
   "execution_count": null,
   "id": "5e409132-44b6-4d5a-bf4a-b556093b5e92",
   "metadata": {},
   "outputs": [],
   "source": []
  },
  {
   "cell_type": "code",
   "execution_count": 13,
   "id": "3a016940-0daa-4b19-b8b8-4804c16c53f6",
   "metadata": {},
   "outputs": [
    {
     "data": {
      "image/png": "[encoded data removed]",
      "text/plain": [
       "<Figure size 600x300 with 2 Axes>"
      ]
     },
     "metadata": {},
     "output_type": "display_data"
    }
   ],
   "source": [
    "tipo='stable' #'neutral','stable','unstable'\n",
    "files=sorted(gb('../out_csv/%s_*'%(tipo)))\n",
    "dfi=p01_merge(files)\n",
    "stable=p02_porcentaje(dfi)\n",
    "fig=plot1(stable)\n",
    "plt.title(tipo.capitalize())\n",
    "fig.savefig('../salidas/%s_35years.png'%tipo, dpi=200, bbox_inches='tight')"
   ]
  },
  {
   "cell_type": "code",
   "execution_count": 14,
   "id": "15ca329c-b01c-47c6-86a7-64c859c1a3e4",
   "metadata": {},
   "outputs": [
    {
     "data": {
      "image/png": "[encoded data removed]",
      "text/plain": [
       "<Figure size 600x300 with 2 Axes>"
      ]
     },
     "metadata": {},
     "output_type": "display_data"
    }
   ],
   "source": [
    "tipo='neutral' #'neutral','stable','unstable'\n",
    "files=sorted(gb('../out_csv/%s_*'%(tipo)))\n",
    "dfi=p01_merge(files)\n",
    "neutral=p02_porcentaje(dfi)\n",
    "fig=plot1(neutral)\n",
    "plt.title(tipo.capitalize())\n",
    "fig.savefig('../salidas/%s_35years.png'%tipo, dpi=200,bbox_inches='tight')"
   ]
  },
  {
   "cell_type": "code",
   "execution_count": 15,
   "id": "4a1a6824-650f-4b12-9435-af17a74530fd",
   "metadata": {},
   "outputs": [
    {
     "data": {
      "image/png": "[encoded data removed]",
      "text/plain": [
       "<Figure size 600x300 with 2 Axes>"
      ]
     },
     "metadata": {},
     "output_type": "display_data"
    }
   ],
   "source": [
    "tipo='unstable' #'neutral','stable','unstable'\n",
    "files=sorted(gb('../out_csv/%s_*'%(tipo)))\n",
    "dfi=p01_merge(files)\n",
    "unstable=p02_porcentaje(dfi)\n",
    "fig=plot1(unstable)\n",
    "plt.title(tipo.capitalize())\n",
    "fig.savefig('../salidas/%s_35years.png'%tipo, dpi=200,bbox_inches='tight')"
   ]
  },
  {
   "cell_type": "code",
   "execution_count": 11,
   "id": "d57bd9a1-5649-4a7e-8cf6-6acd1ea5a03b",
   "metadata": {},
   "outputs": [
    {
     "data": {
      "image/png": "[encoded data removed]",
      "text/plain": [
       "<Figure size 600x300 with 2 Axes>"
      ]
     },
     "metadata": {},
     "output_type": "display_data"
    }
   ],
   "source": [
    "fig=plot1(stable+unstable+neutral)\n",
    "plt.title('Suma')\n",
    "fig.savefig('../salidas/suma_35years.png', dpi=200,) #bbox_inches='tight')"
   ]
  },
  {
   "cell_type": "code",
   "execution_count": null,
   "id": "13cab627-94dc-4c8e-af72-4f3446ae9426",
   "metadata": {},
   "outputs": [],
   "source": []
  }
 ],
 "metadata": {
  "kernelspec": {
   "display_name": "Python 3 (ipykernel)",
   "language": "python",
   "name": "python3"
  },
  "language_info": {
   "codemirror_mode": {
    "name": "ipython",
    "version": 3
   },
   "file_extension": ".py",
   "mimetype": "text/x-python",
   "name": "python",
   "nbconvert_exporter": "python",
   "pygments_lexer": "ipython3",
   "version": "3.12.2"
  }
 },
 "nbformat": 4,
 "nbformat_minor": 5
}
